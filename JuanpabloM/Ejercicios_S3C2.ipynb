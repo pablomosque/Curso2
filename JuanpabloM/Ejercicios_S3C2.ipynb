{
  "nbformat": 4,
  "nbformat_minor": 0,
  "metadata": {
    "colab": {
      "name": "Ejercicios_S3C2",
      "provenance": [],
      "collapsed_sections": []
    },
    "kernelspec": {
      "name": "python3",
      "display_name": "Python 3"
    },
    "language_info": {
      "name": "python"
    }
  },
  "cells": [
    {
      "cell_type": "markdown",
      "source": [
        "#Ejercicio_Protocolo_Validación\n",
        "\n",
        "Haga una red neuronal de 2 capas (2 neuronas ocultas y 1 de salida) usando únicamente numpy para ajustar el XOR usando la función escalera como función de activación. Tip: XOR=AND(OR,NAND)"
      ],
      "metadata": {
        "id": "LrlEYT8EsrRI"
      }
    },
    {
      "cell_type": "code",
      "source": [
        "import numpy as np"
      ],
      "metadata": {
        "id": "GTG1LmvMs6zn"
      },
      "execution_count": null,
      "outputs": []
    },
    {
      "cell_type": "code",
      "source": [
        "Al=[0]*2\n",
        "Bl=[0]*2\n",
        "Bl"
      ],
      "metadata": {
        "colab": {
          "base_uri": "https://localhost:8080/"
        },
        "id": "LN3bkryUtMV8",
        "outputId": "1fae7b48-ab9c-4229-d78e-4d45f59ea7fe"
      },
      "execution_count": null,
      "outputs": [
        {
          "output_type": "execute_result",
          "data": {
            "text/plain": [
              "[0, 0]"
            ]
          },
          "metadata": {},
          "execution_count": 2
        }
      ]
    },
    {
      "cell_type": "code",
      "source": [
        "X=np.array([[0,0],[0,1],[1,0],[1,1]])\n",
        "X"
      ],
      "metadata": {
        "colab": {
          "base_uri": "https://localhost:8080/"
        },
        "id": "56iRIJFotWii",
        "outputId": "06dc2ac4-6870-43e1-9de7-6427afe703f3"
      },
      "execution_count": null,
      "outputs": [
        {
          "output_type": "execute_result",
          "data": {
            "text/plain": [
              "array([[0, 0],\n",
              "       [0, 1],\n",
              "       [1, 0],\n",
              "       [1, 1]])"
            ]
          },
          "metadata": {},
          "execution_count": 3
        }
      ]
    },
    {
      "cell_type": "code",
      "source": [
        "Al[0]=np.array([[1/2,-1/3],[1/2,-1/3]])\n",
        "Bl[0]=np.array([-1/2,1/2])\n",
        "Al[1]=np.array([[1/3],[1/3]])\n",
        "Bl[1]=np.array([-1/2])\n",
        "Bl[1]"
      ],
      "metadata": {
        "colab": {
          "base_uri": "https://localhost:8080/"
        },
        "id": "FlDp7ddWtekk",
        "outputId": "9b44fca8-fe0c-4926-a16c-95e315230ef7"
      },
      "execution_count": null,
      "outputs": [
        {
          "output_type": "execute_result",
          "data": {
            "text/plain": [
              "array([-0.5])"
            ]
          },
          "metadata": {},
          "execution_count": 5
        }
      ]
    },
    {
      "cell_type": "code",
      "source": [
        "step=lambda x:(x>=0)"
      ],
      "metadata": {
        "id": "zjuwjH9Htzgg"
      },
      "execution_count": null,
      "outputs": []
    },
    {
      "cell_type": "code",
      "source": [
        "Xl=[]\n",
        "x=X\n",
        "x"
      ],
      "metadata": {
        "colab": {
          "base_uri": "https://localhost:8080/"
        },
        "id": "S4R4njjlt3eL",
        "outputId": "e248a973-ede0-418b-e793-64f954be8c9a"
      },
      "execution_count": null,
      "outputs": [
        {
          "output_type": "execute_result",
          "data": {
            "text/plain": [
              "array([[0, 0],\n",
              "       [0, 1],\n",
              "       [1, 0],\n",
              "       [1, 1]])"
            ]
          },
          "metadata": {},
          "execution_count": 12
        }
      ]
    },
    {
      "cell_type": "code",
      "source": [
        "for L in range(2):\n",
        "  x=step(np.dot(x,Al[L])+Bl[L])\n",
        "  Xl.append(x)\n",
        "print(Xl)"
      ],
      "metadata": {
        "colab": {
          "base_uri": "https://localhost:8080/"
        },
        "id": "mN6CeLHOuPzA",
        "outputId": "f3189874-4133-4d64-d1b6-a806e2e79707"
      },
      "execution_count": null,
      "outputs": [
        {
          "output_type": "stream",
          "name": "stdout",
          "text": [
            "[array([[False,  True],\n",
            "       [ True,  True],\n",
            "       [ True,  True],\n",
            "       [ True, False]]), array([[False],\n",
            "       [ True],\n",
            "       [ True],\n",
            "       [False]])]\n"
          ]
        }
      ]
    }
  ]
}